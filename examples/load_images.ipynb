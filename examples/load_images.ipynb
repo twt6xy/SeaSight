{
 "cells": [
  {
   "cell_type": "code",
   "execution_count": 2,
   "metadata": {},
   "outputs": [],
   "source": [
    "import os\n",
    "from seasight.loaders.roboflow import RoboflowDatasetLoader"
   ]
  },
  {
   "cell_type": "markdown",
   "metadata": {},
   "source": [
    "## Load Sea Vessels Dataset\n",
    "\n",
    "- https://universe.roboflow.com/yehonatan-engel/sea-vessels-dataset/dataset/2\n",
    "\n",
    "- The following cell will download the images in `TFRecord` format and store them in the `data` directory at the root of the repo."
   ]
  },
  {
   "cell_type": "code",
   "execution_count": 3,
   "metadata": {},
   "outputs": [
    {
     "name": "stdout",
     "output_type": "stream",
     "text": [
      "loading Roboflow workspace...\n",
      "loading Roboflow project...\n"
     ]
    },
    {
     "name": "stderr",
     "output_type": "stream",
     "text": [
      "Downloading Dataset Version Zip in Sea-Vessels-Dataset-2 to tfrecord:: 100%|██████████| 35765/35765 [00:11<00:00, 3241.37it/s]\n"
     ]
    },
    {
     "name": "stdout",
     "output_type": "stream",
     "text": [
      "\n"
     ]
    },
    {
     "name": "stderr",
     "output_type": "stream",
     "text": [
      "Extracting Dataset Version Zip to Sea-Vessels-Dataset-2 in tfrecord:: 100%|██████████| 11/11 [00:00<00:00, 162.56it/s]"
     ]
    },
    {
     "name": "stdout",
     "output_type": "stream",
     "text": [
      "Dataset moved to ../data/\n"
     ]
    },
    {
     "name": "stderr",
     "output_type": "stream",
     "text": [
      "\n"
     ]
    }
   ],
   "source": [
    "api_key = os.getenv(\"ROBOFLOW_API_KEY\")\n",
    "workspace = \"yehonatan-engel\"\n",
    "project_name = \"sea-vessels-dataset\"\n",
    "version_number = 2\n",
    "\n",
    "downloader = RoboflowDatasetLoader(api_key, workspace, project_name, version_number)\n",
    "downloader.download_dataset()"
   ]
  }
 ],
 "metadata": {
  "kernelspec": {
   "display_name": "seasight-81j49svZ-py3.10",
   "language": "python",
   "name": "python3"
  },
  "language_info": {
   "codemirror_mode": {
    "name": "ipython",
    "version": 3
   },
   "file_extension": ".py",
   "mimetype": "text/x-python",
   "name": "python",
   "nbconvert_exporter": "python",
   "pygments_lexer": "ipython3",
   "version": "3.10.12"
  }
 },
 "nbformat": 4,
 "nbformat_minor": 2
}
